{
  "cells": [
    {
      "cell_type": "markdown",
      "metadata": {
        "id": "A3G-eDjNicox"
      },
      "source": [
        "Thông tin nhóm 2\n",
        "- Vũ Nguyễn Trung Hiếu - 23122028\n",
        "- Châu Văn Minh Khoa - 23122035\n",
        "- Nguyễn Trần Trung Kiên - 23122038\n",
        "- Phan Ngọc Quân - 23122046"
      ]
    },
    {
      "cell_type": "code",
      "execution_count": null,
      "metadata": {
        "colab": {
          "base_uri": "https://localhost:8080/"
        },
        "id": "XGNFEqoBSoqh",
        "outputId": "a2ef289b-d6f7-4b16-d166-32a741d9248c"
      },
      "outputs": [
        {
          "name": "stdout",
          "output_type": "stream",
          "text": [
            "Requirement already satisfied: nltk in c:\\users\\hp\\miniconda3\\lib\\site-packages (3.9.1)Note: you may need to restart the kernel to use updated packages.\n"
          ]
        },
        {
          "name": "stderr",
          "output_type": "stream",
          "text": [
            "DEPRECATION: Loading egg at c:\\users\\hp\\miniconda3\\lib\\site-packages\\mask_rcnn-2.1-py3.11.egg is deprecated. pip 23.3 will enforce this behaviour change. A possible replacement is to use pip for package installation..\n"
          ]
        },
        {
          "name": "stdout",
          "output_type": "stream",
          "text": [
            "\n",
            "Requirement already satisfied: click in c:\\users\\hp\\miniconda3\\lib\\site-packages (from nltk) (8.1.7)\n",
            "Requirement already satisfied: joblib in c:\\users\\hp\\miniconda3\\lib\\site-packages (from nltk) (1.3.2)\n",
            "Requirement already satisfied: regex>=2021.8.3 in c:\\users\\hp\\miniconda3\\lib\\site-packages (from nltk) (2024.11.6)\n",
            "Requirement already satisfied: tqdm in c:\\users\\hp\\miniconda3\\lib\\site-packages (from nltk) (4.65.0)\n",
            "Requirement already satisfied: colorama in c:\\users\\hp\\miniconda3\\lib\\site-packages (from click->nltk) (0.4.6)\n",
            "Requirement already satisfied: numpy in c:\\users\\hp\\miniconda3\\lib\\site-packages (1.26.2)\n",
            "Note: you may need to restart the kernel to use updated packages.\n"
          ]
        },
        {
          "name": "stderr",
          "output_type": "stream",
          "text": [
            "DEPRECATION: Loading egg at c:\\users\\hp\\miniconda3\\lib\\site-packages\\mask_rcnn-2.1-py3.11.egg is deprecated. pip 23.3 will enforce this behaviour change. A possible replacement is to use pip for package installation..\n"
          ]
        },
        {
          "name": "stdout",
          "output_type": "stream",
          "text": [
            "Requirement already satisfied: pandas in c:\\users\\hp\\miniconda3\\lib\\site-packages (2.1.4)\n",
            "Requirement already satisfied: numpy<2,>=1.23.2 in c:\\users\\hp\\miniconda3\\lib\\site-packages (from pandas) (1.26.2)\n",
            "Requirement already satisfied: python-dateutil>=2.8.2 in c:\\users\\hp\\miniconda3\\lib\\site-packages (from pandas) (2.8.2)\n",
            "Requirement already satisfied: pytz>=2020.1 in c:\\users\\hp\\miniconda3\\lib\\site-packages (from pandas) (2023.3.post1)\n",
            "Requirement already satisfied: tzdata>=2022.1 in c:\\users\\hp\\miniconda3\\lib\\site-packages (from pandas) (2023.4)\n",
            "Requirement already satisfied: six>=1.5 in c:\\users\\hp\\miniconda3\\lib\\site-packages (from python-dateutil>=2.8.2->pandas) (1.16.0)\n",
            "Note: you may need to restart the kernel to use updated packages.\n"
          ]
        },
        {
          "name": "stderr",
          "output_type": "stream",
          "text": [
            "DEPRECATION: Loading egg at c:\\users\\hp\\miniconda3\\lib\\site-packages\\mask_rcnn-2.1-py3.11.egg is deprecated. pip 23.3 will enforce this behaviour change. A possible replacement is to use pip for package installation..\n"
          ]
        },
        {
          "name": "stdout",
          "output_type": "stream",
          "text": [
            "Requirement already satisfied: matplotlib in c:\\users\\hp\\miniconda3\\lib\\site-packages (3.8.2)\n",
            "Requirement already satisfied: contourpy>=1.0.1 in c:\\users\\hp\\miniconda3\\lib\\site-packages (from matplotlib) (1.2.0)\n",
            "Requirement already satisfied: cycler>=0.10 in c:\\users\\hp\\miniconda3\\lib\\site-packages (from matplotlib) (0.12.1)\n",
            "Requirement already satisfied: fonttools>=4.22.0 in c:\\users\\hp\\miniconda3\\lib\\site-packages (from matplotlib) (4.45.1)\n",
            "Requirement already satisfied: kiwisolver>=1.3.1 in c:\\users\\hp\\miniconda3\\lib\\site-packages (from matplotlib) (1.4.5)\n",
            "Requirement already satisfied: numpy<2,>=1.21 in c:\\users\\hp\\miniconda3\\lib\\site-packages (from matplotlib) (1.26.2)\n",
            "Requirement already satisfied: packaging>=20.0 in c:\\users\\hp\\miniconda3\\lib\\site-packages (from matplotlib) (23.1)\n",
            "Requirement already satisfied: pillow>=8 in c:\\users\\hp\\miniconda3\\lib\\site-packages (from matplotlib) (10.1.0)\n",
            "Requirement already satisfied: pyparsing>=2.3.1 in c:\\users\\hp\\miniconda3\\lib\\site-packages (from matplotlib) (3.1.1)\n",
            "Requirement already satisfied: python-dateutil>=2.7 in c:\\users\\hp\\miniconda3\\lib\\site-packages (from matplotlib) (2.8.2)\n",
            "Requirement already satisfied: six>=1.5 in c:\\users\\hp\\miniconda3\\lib\\site-packages (from python-dateutil>=2.7->matplotlib) (1.16.0)\n",
            "Note: you may need to restart the kernel to use updated packages.\n"
          ]
        },
        {
          "name": "stderr",
          "output_type": "stream",
          "text": [
            "DEPRECATION: Loading egg at c:\\users\\hp\\miniconda3\\lib\\site-packages\\mask_rcnn-2.1-py3.11.egg is deprecated. pip 23.3 will enforce this behaviour change. A possible replacement is to use pip for package installation..\n"
          ]
        },
        {
          "name": "stdout",
          "output_type": "stream",
          "text": [
            "Requirement already satisfied: seaborn in c:\\users\\hp\\miniconda3\\lib\\site-packages (0.13.1)\n",
            "Requirement already satisfied: numpy!=1.24.0,>=1.20 in c:\\users\\hp\\miniconda3\\lib\\site-packages (from seaborn) (1.26.2)\n",
            "Requirement already satisfied: pandas>=1.2 in c:\\users\\hp\\miniconda3\\lib\\site-packages (from seaborn) (2.1.4)\n",
            "Requirement already satisfied: matplotlib!=3.6.1,>=3.4 in c:\\users\\hp\\miniconda3\\lib\\site-packages (from seaborn) (3.8.2)\n",
            "Requirement already satisfied: contourpy>=1.0.1 in c:\\users\\hp\\miniconda3\\lib\\site-packages (from matplotlib!=3.6.1,>=3.4->seaborn) (1.2.0)\n",
            "Requirement already satisfied: cycler>=0.10 in c:\\users\\hp\\miniconda3\\lib\\site-packages (from matplotlib!=3.6.1,>=3.4->seaborn) (0.12.1)\n",
            "Requirement already satisfied: fonttools>=4.22.0 in c:\\users\\hp\\miniconda3\\lib\\site-packages (from matplotlib!=3.6.1,>=3.4->seaborn) (4.45.1)\n",
            "Requirement already satisfied: kiwisolver>=1.3.1 in c:\\users\\hp\\miniconda3\\lib\\site-packages (from matplotlib!=3.6.1,>=3.4->seaborn) (1.4.5)\n",
            "Requirement already satisfied: packaging>=20.0 in c:\\users\\hp\\miniconda3\\lib\\site-packages (from matplotlib!=3.6.1,>=3.4->seaborn) (23.1)\n",
            "Requirement already satisfied: pillow>=8 in c:\\users\\hp\\miniconda3\\lib\\site-packages (from matplotlib!=3.6.1,>=3.4->seaborn) (10.1.0)\n",
            "Requirement already satisfied: pyparsing>=2.3.1 in c:\\users\\hp\\miniconda3\\lib\\site-packages (from matplotlib!=3.6.1,>=3.4->seaborn) (3.1.1)\n",
            "Requirement already satisfied: python-dateutil>=2.7 in c:\\users\\hp\\miniconda3\\lib\\site-packages (from matplotlib!=3.6.1,>=3.4->seaborn) (2.8.2)\n",
            "Requirement already satisfied: pytz>=2020.1 in c:\\users\\hp\\miniconda3\\lib\\site-packages (from pandas>=1.2->seaborn) (2023.3.post1)\n",
            "Requirement already satisfied: tzdata>=2022.1 in c:\\users\\hp\\miniconda3\\lib\\site-packages (from pandas>=1.2->seaborn) (2023.4)\n",
            "Requirement already satisfied: six>=1.5 in c:\\users\\hp\\miniconda3\\lib\\site-packages (from python-dateutil>=2.7->matplotlib!=3.6.1,>=3.4->seaborn) (1.16.0)\n",
            "Note: you may need to restart the kernel to use updated packages.\n"
          ]
        },
        {
          "name": "stderr",
          "output_type": "stream",
          "text": [
            "DEPRECATION: Loading egg at c:\\users\\hp\\miniconda3\\lib\\site-packages\\mask_rcnn-2.1-py3.11.egg is deprecated. pip 23.3 will enforce this behaviour change. A possible replacement is to use pip for package installation..\n"
          ]
        },
        {
          "name": "stdout",
          "output_type": "stream",
          "text": [
            "Note: you may need to restart the kernel to use updated packages.\n"
          ]
        },
        {
          "name": "stderr",
          "output_type": "stream",
          "text": [
            "DEPRECATION: Loading egg at c:\\users\\hp\\miniconda3\\lib\\site-packages\\mask_rcnn-2.1-py3.11.egg is deprecated. pip 23.3 will enforce this behaviour change. A possible replacement is to use pip for package installation..\n",
            "ERROR: Could not find a version that satisfies the requirement collections (from versions: none)\n",
            "ERROR: No matching distribution found for collections\n"
          ]
        }
      ],
      "source": [
        "%pip install nltk\n",
        "%pip install numpy\n",
        "%pip install pandas\n",
        "%pip install matplotlib\n",
        "%pip install seaborn"
      ]
    },
    {
      "cell_type": "code",
      "execution_count": 82,
      "metadata": {
        "id": "zhoKE_K7jR2L"
      },
      "outputs": [
        {
          "name": "stderr",
          "output_type": "stream",
          "text": [
            "[nltk_data] Downloading package stopwords to\n",
            "[nltk_data]     C:\\Users\\Hp\\AppData\\Roaming\\nltk_data...\n",
            "[nltk_data]   Package stopwords is already up-to-date!\n"
          ]
        }
      ],
      "source": [
        "import numpy as np\n",
        "import pandas as pd\n",
        "import matplotlib.pyplot as plt\n",
        "import seaborn as sns\n",
        "from string import punctuation\n",
        "import nltk\n",
        "nltk.download('stopwords')\n",
        "from nltk.corpus import stopwords\n",
        "from nltk.stem import PorterStemmer\n",
        "from collections import defaultdict\n",
        "import re"
      ]
    },
    {
      "cell_type": "markdown",
      "metadata": {
        "id": "aqVM0dioitrj"
      },
      "source": [
        "**1. Tập dữ liệu Enrol-Spam**"
      ]
    },
    {
      "cell_type": "markdown",
      "metadata": {
        "id": "rnqRT3_Ki8SF"
      },
      "source": [
        "Đọc file train.csv và val.csv"
      ]
    },
    {
      "cell_type": "code",
      "execution_count": 83,
      "metadata": {
        "id": "UKx-bthri7tS"
      },
      "outputs": [],
      "source": [
        "train = pd.read_csv('train.csv')\n",
        "val = pd.read_csv('val.csv')"
      ]
    },
    {
      "cell_type": "code",
      "execution_count": 84,
      "metadata": {
        "id": "JZx1eVRDxsI6"
      },
      "outputs": [
        {
          "data": {
            "text/html": [
              "<div>\n",
              "<style scoped>\n",
              "    .dataframe tbody tr th:only-of-type {\n",
              "        vertical-align: middle;\n",
              "    }\n",
              "\n",
              "    .dataframe tbody tr th {\n",
              "        vertical-align: top;\n",
              "    }\n",
              "\n",
              "    .dataframe thead th {\n",
              "        text-align: right;\n",
              "    }\n",
              "</style>\n",
              "<table border=\"1\" class=\"dataframe\">\n",
              "  <thead>\n",
              "    <tr style=\"text-align: right;\">\n",
              "      <th></th>\n",
              "      <th>Unnamed: 0</th>\n",
              "      <th>Message ID</th>\n",
              "      <th>Subject</th>\n",
              "      <th>Message</th>\n",
              "      <th>Spam/Ham</th>\n",
              "      <th>split</th>\n",
              "    </tr>\n",
              "  </thead>\n",
              "  <tbody>\n",
              "    <tr>\n",
              "      <th>0</th>\n",
              "      <td>0</td>\n",
              "      <td>0</td>\n",
              "      <td>christmas tree farm pictures</td>\n",
              "      <td>NaN</td>\n",
              "      <td>ham</td>\n",
              "      <td>0.038415</td>\n",
              "    </tr>\n",
              "    <tr>\n",
              "      <th>1</th>\n",
              "      <td>1</td>\n",
              "      <td>1</td>\n",
              "      <td>vastar resources , inc .</td>\n",
              "      <td>gary , production from the high island larger ...</td>\n",
              "      <td>ham</td>\n",
              "      <td>0.696509</td>\n",
              "    </tr>\n",
              "    <tr>\n",
              "      <th>2</th>\n",
              "      <td>2</td>\n",
              "      <td>2</td>\n",
              "      <td>calpine daily gas nomination</td>\n",
              "      <td>- calpine daily gas nomination 1 . doc</td>\n",
              "      <td>ham</td>\n",
              "      <td>0.587792</td>\n",
              "    </tr>\n",
              "    <tr>\n",
              "      <th>3</th>\n",
              "      <td>3</td>\n",
              "      <td>3</td>\n",
              "      <td>re : issue</td>\n",
              "      <td>fyi - see note below - already done .\\nstella\\...</td>\n",
              "      <td>ham</td>\n",
              "      <td>-0.055438</td>\n",
              "    </tr>\n",
              "    <tr>\n",
              "      <th>4</th>\n",
              "      <td>5</td>\n",
              "      <td>5</td>\n",
              "      <td>mcmullen gas for 11 / 99</td>\n",
              "      <td>jackie ,\\nsince the inlet to 3 river plant is ...</td>\n",
              "      <td>ham</td>\n",
              "      <td>-0.419658</td>\n",
              "    </tr>\n",
              "  </tbody>\n",
              "</table>\n",
              "</div>"
            ],
            "text/plain": [
              "   Unnamed: 0  Message ID                       Subject  \\\n",
              "0           0           0  christmas tree farm pictures   \n",
              "1           1           1      vastar resources , inc .   \n",
              "2           2           2  calpine daily gas nomination   \n",
              "3           3           3                    re : issue   \n",
              "4           5           5      mcmullen gas for 11 / 99   \n",
              "\n",
              "                                             Message Spam/Ham     split  \n",
              "0                                                NaN      ham  0.038415  \n",
              "1  gary , production from the high island larger ...      ham  0.696509  \n",
              "2             - calpine daily gas nomination 1 . doc      ham  0.587792  \n",
              "3  fyi - see note below - already done .\\nstella\\...      ham -0.055438  \n",
              "4  jackie ,\\nsince the inlet to 3 river plant is ...      ham -0.419658  "
            ]
          },
          "execution_count": 84,
          "metadata": {},
          "output_type": "execute_result"
        }
      ],
      "source": [
        "train.head()"
      ]
    },
    {
      "cell_type": "code",
      "execution_count": 85,
      "metadata": {
        "id": "vGWjQE4oxvWK"
      },
      "outputs": [
        {
          "data": {
            "text/html": [
              "<div>\n",
              "<style scoped>\n",
              "    .dataframe tbody tr th:only-of-type {\n",
              "        vertical-align: middle;\n",
              "    }\n",
              "\n",
              "    .dataframe tbody tr th {\n",
              "        vertical-align: top;\n",
              "    }\n",
              "\n",
              "    .dataframe thead th {\n",
              "        text-align: right;\n",
              "    }\n",
              "</style>\n",
              "<table border=\"1\" class=\"dataframe\">\n",
              "  <thead>\n",
              "    <tr style=\"text-align: right;\">\n",
              "      <th></th>\n",
              "      <th>Unnamed: 0</th>\n",
              "      <th>Message ID</th>\n",
              "      <th>Subject</th>\n",
              "      <th>Message</th>\n",
              "      <th>Spam/Ham</th>\n",
              "      <th>split</th>\n",
              "    </tr>\n",
              "  </thead>\n",
              "  <tbody>\n",
              "    <tr>\n",
              "      <th>0</th>\n",
              "      <td>23</td>\n",
              "      <td>23</td>\n",
              "      <td>miscellaneous</td>\n",
              "      <td>- - - - - - - - - - - - - - - - - - - - - - fo...</td>\n",
              "      <td>ham</td>\n",
              "      <td>-0.351998</td>\n",
              "    </tr>\n",
              "    <tr>\n",
              "      <th>1</th>\n",
              "      <td>24</td>\n",
              "      <td>24</td>\n",
              "      <td>re : purge of old contract _ event _ status</td>\n",
              "      <td>fyi - what do you all think ?\\n- - - - - - - -...</td>\n",
              "      <td>ham</td>\n",
              "      <td>0.257704</td>\n",
              "    </tr>\n",
              "    <tr>\n",
              "      <th>2</th>\n",
              "      <td>32</td>\n",
              "      <td>32</td>\n",
              "      <td>valero 8018 and 1394</td>\n",
              "      <td>it is my understanding the outages valero incu...</td>\n",
              "      <td>ham</td>\n",
              "      <td>0.091200</td>\n",
              "    </tr>\n",
              "    <tr>\n",
              "      <th>3</th>\n",
              "      <td>37</td>\n",
              "      <td>37</td>\n",
              "      <td>01 / 00 natural gas nomination</td>\n",
              "      <td>enron methanol company nominates the following...</td>\n",
              "      <td>ham</td>\n",
              "      <td>-1.745133</td>\n",
              "    </tr>\n",
              "    <tr>\n",
              "      <th>4</th>\n",
              "      <td>43</td>\n",
              "      <td>43</td>\n",
              "      <td>re : misc . questions</td>\n",
              "      <td>- - - - - - - - - - - - - - - - - - - - - - fo...</td>\n",
              "      <td>ham</td>\n",
              "      <td>-1.911987</td>\n",
              "    </tr>\n",
              "  </tbody>\n",
              "</table>\n",
              "</div>"
            ],
            "text/plain": [
              "   Unnamed: 0  Message ID                                      Subject  \\\n",
              "0          23          23                                miscellaneous   \n",
              "1          24          24  re : purge of old contract _ event _ status   \n",
              "2          32          32                         valero 8018 and 1394   \n",
              "3          37          37               01 / 00 natural gas nomination   \n",
              "4          43          43                        re : misc . questions   \n",
              "\n",
              "                                             Message Spam/Ham     split  \n",
              "0  - - - - - - - - - - - - - - - - - - - - - - fo...      ham -0.351998  \n",
              "1  fyi - what do you all think ?\\n- - - - - - - -...      ham  0.257704  \n",
              "2  it is my understanding the outages valero incu...      ham  0.091200  \n",
              "3  enron methanol company nominates the following...      ham -1.745133  \n",
              "4  - - - - - - - - - - - - - - - - - - - - - - fo...      ham -1.911987  "
            ]
          },
          "execution_count": 85,
          "metadata": {},
          "output_type": "execute_result"
        }
      ],
      "source": [
        "val.head()"
      ]
    },
    {
      "cell_type": "markdown",
      "metadata": {
        "id": "LO8aC7eiid7O"
      },
      "source": [
        "**2. Tiền xử lý dữ liệu**"
      ]
    },
    {
      "cell_type": "code",
      "execution_count": 86,
      "metadata": {
        "id": "WfUI0qhGyQ9Y"
      },
      "outputs": [],
      "source": [
        "df = train[['Subject', 'Message', 'Spam/Ham']]\n",
        "df2 = val[['Subject', 'Message', 'Spam/Ham']]"
      ]
    },
    {
      "cell_type": "markdown",
      "metadata": {
        "id": "A1iy88uWGiT_"
      },
      "source": [
        "Xử lý NaN và giá trị lặp"
      ]
    },
    {
      "cell_type": "code",
      "execution_count": 87,
      "metadata": {
        "id": "JKHLQ6qgoBYo"
      },
      "outputs": [],
      "source": [
        "df = df.drop_duplicates()\n",
        "df = df.fillna(\"\")\n",
        "df2 = df2.drop_duplicates()\n",
        "df2 = df2.fillna(\"\")"
      ]
    },
    {
      "cell_type": "markdown",
      "metadata": {
        "id": "B1-Ri-jpybYt"
      },
      "source": [
        "Tiền xử lý cơ bản:\n",
        "*   Lower casing\n",
        "*   Removal of punctuations\n",
        "*   Removal of stop words\n",
        "*   Stemming\n",
        "*   Removal of URLs\n",
        "*   Removal of HTML tags\n",
        "*   Removal of email"
      ]
    },
    {
      "cell_type": "code",
      "execution_count": 88,
      "metadata": {
        "id": "TKJhR5iiiCeu"
      },
      "outputs": [],
      "source": [
        "def clean_text(m):\n",
        "    m = re.sub(r'^[a-zA-Z0-9_.+-]+@[a-zA-Z0-9-]+\\.[a-zA-Z0-9-.]+$','',str(m))\n",
        "    m = re.sub(r'(http|https|ftp)://[a-zA-Z0-9\\\\./]+', ' ', str(m))\n",
        "    m = re.sub(r'\\d+', '', str(m))\n",
        "    m = re.sub(r'<[^<]+?>', '', str(m))\n",
        "    m = m.replace(r'[^a-zA-Z]', '')\n",
        "    m = m.replace('nbsp', '')\n",
        "    m = m.translate(str.maketrans('', '', punctuation))\n",
        "    m = m.lower()\n",
        "\n",
        "    return ' '.join(m.split())\n"
      ]
    },
    {
      "cell_type": "markdown",
      "metadata": {
        "id": "b2n7XrXZxdFx"
      },
      "source": [
        "Tiền xử lý Nâng cao bằng Ngram"
      ]
    },
    {
      "cell_type": "code",
      "execution_count": 89,
      "metadata": {
        "id": "d5q6Uhg4xb4W"
      },
      "outputs": [],
      "source": [
        "def preprocess_ngram(df, min_freq=3):\n",
        "    \"\"\"\n",
        "    Tiền xử lý với n-gram\n",
        "\n",
        "    Args:\n",
        "        df: DataFrame chứa các cột Subject, Message, Spam/Ham.\n",
        "        min_freq: Ngưỡng tần suất tối thiểu.\n",
        "\n",
        "    Returns:\n",
        "        DataFrame với cột Text và Label (0/1).\n",
        "    \"\"\"\n",
        "\n",
        "    # Khởi tạo đối tượng PorterStemmer\n",
        "    ps = PorterStemmer()\n",
        "\n",
        "    # Đếm tần suất từ và bi-gram\n",
        "    word_freq = defaultdict(int)\n",
        "    for text in df[\"Subject\"].astype(str) + \" \" + df[\"Message\"].astype(str):\n",
        "        text = clean_text(text)  # Sử dụng hàm clean_text để xử lý văn bản\n",
        "        tokens = re.findall(r'\\b\\w+\\b', text)\n",
        "        for token in tokens:\n",
        "            word_freq[token] += 1\n",
        "        # Bi-gram\n",
        "        for i in range(len(tokens)-1):\n",
        "            bigram = f\"{tokens[i]}_{tokens[i+1]}\"\n",
        "            word_freq[bigram] += 1\n",
        "\n",
        "    # Stop words tùy chỉnh\n",
        "    spam_relevant_words = {'free', 'win', 'won', 'prize', 'offer', 'buy', 'cheap', 'discount'}\n",
        "    custom_stop_words = set(stopwords.words('english')) - spam_relevant_words\n",
        "\n",
        "    # Tiến hành tiền xử lý và tạo n-gram\n",
        "    def process_text(text):\n",
        "        text = clean_text(text)  # Loại bỏ URL, email, ký tự không phải chữ cái\n",
        "        tokens = text.split()\n",
        "        processed = []\n",
        "        for i, word in enumerate(tokens):\n",
        "            if word not in custom_stop_words and word_freq[word] >= min_freq:\n",
        "                processed.append(ps.stem(word) if len(word) > 4 else word)\n",
        "            if i < len(tokens)-1:\n",
        "                bigram = f\"{word}_{tokens[i+1]}\"\n",
        "                if word_freq.get(bigram, 0) >= min_freq:\n",
        "                    processed.append(bigram)\n",
        "        return ' '.join(processed) if processed else 'empty'\n",
        "    \n",
        "    df[\"Text\"] = df[\"Text\"].apply(process_text)\n",
        "\n",
        "    return df\n",
        "\n",
        "df[\"Text\"] = df[\"Subject\"].astype(str) + \" \" + df[\"Message\"].astype(str)\n",
        "df[\"Label\"] = df[\"Spam/Ham\"].apply(lambda x: 1 if x == 'spam' else 0)\n",
        "\n",
        "df2[\"Text\"] = df2[\"Subject\"].astype(str) + \" \" + df2[\"Message\"].astype(str)\n",
        "df2[\"Label\"] = df2[\"Spam/Ham\"].apply(lambda x: 1 if x == 'spam' else 0)\n",
        "\n",
        "# df[\"Text\"] = df[\"Text\"].apply(clean_text)\n",
        "# df2[\"Text\"] = df2[\"Text\"].apply(clean_text)\n",
        "# train_data = df\n",
        "# val_data = df2\n",
        "\n",
        "train_data = preprocess_ngram(df)\n",
        "val_data = preprocess_ngram(df2)\n",
        "\n",
        "X_train, y_train = train_data['Text'], train_data['Label'].to_numpy()\n",
        "X_val, y_val = val_data['Text'], val_data['Label'].to_numpy()\n"
      ]
    },
    {
      "cell_type": "code",
      "execution_count": 90,
      "metadata": {
        "collapsed": true,
        "id": "Cb1UCRgGFQRi"
      },
      "outputs": [
        {
          "data": {
            "text/plain": [
              "0                 christma christmas_tree tree farm pictur\n",
              "1        vastar vastar_resources resourc resources_inc ...\n",
              "2        calpin calpine_daily daili daily_gas gas gas_n...\n",
              "3        re_issue issu issue_fyi fyi fyi_see see see_no...\n",
              "4        mcmullen gas gas_for for_jackie jacki sinc sin...\n",
              "                               ...                        \n",
              "27277    cure cure_premature prematur premature_ejacula...\n",
              "27279    error error_hello hello hello_welcome welcom w...\n",
              "27280    prescript medicin medicines_are are_on on_spec...\n",
              "27281    the_next next next_generation gener onlin onli...\n",
              "27282    in_times time times_the the_time time learn le...\n",
              "Name: Text, Length: 25023, dtype: object"
            ]
          },
          "execution_count": 90,
          "metadata": {},
          "output_type": "execute_result"
        }
      ],
      "source": [
        "X_train"
      ]
    },
    {
      "cell_type": "code",
      "execution_count": 91,
      "metadata": {
        "id": "1rRB83_PQjLZ"
      },
      "outputs": [
        {
          "data": {
            "text/plain": [
              "array([0, 0, 0, ..., 1, 1, 1], dtype=int64)"
            ]
          },
          "execution_count": 91,
          "metadata": {},
          "output_type": "execute_result"
        }
      ],
      "source": [
        "y_train"
      ]
    },
    {
      "cell_type": "markdown",
      "metadata": {
        "id": "wbT7PHA87o5s"
      },
      "source": [
        "**3. Huấn luyện mô hình**"
      ]
    },
    {
      "cell_type": "markdown",
      "metadata": {
        "id": "FmVdezcb7sKP"
      },
      "source": [
        "Class NaiveBayes"
      ]
    },
    {
      "cell_type": "code",
      "execution_count": 92,
      "metadata": {
        "id": "KAiVMCTM7und"
      },
      "outputs": [],
      "source": [
        "class NaiveBayesClassifier:\n",
        "    def __init__(self, alpha=0.3):\n",
        "        self.class_word_counts = defaultdict(lambda: defaultdict(int))\n",
        "        self.class_counts = defaultdict(int)\n",
        "        self.vocab = set()\n",
        "        self.total_docs = 0\n",
        "        self.class_totals = defaultdict(int)\n",
        "        self.alpha = alpha \n",
        "\n",
        "    def fit(self, X, y):\n",
        "        self.total_docs = len(X)\n",
        "        for text, label in zip(X, y):\n",
        "            self.class_counts[label] += 1\n",
        "            tokens = text.split()\n",
        "            for word in tokens:\n",
        "                self.class_word_counts[label][word] += 1\n",
        "                self.vocab.add(word)\n",
        "                self.class_totals[label] += 1\n",
        "\n",
        "    def predict(self, X):\n",
        "        predictions = []\n",
        "        for text in X:\n",
        "            tokens = text.split()\n",
        "            scores = {}\n",
        "            for label in self.class_counts:\n",
        "                log_prob = np.log(self.class_counts[label] / self.total_docs)\n",
        "                for word in tokens:\n",
        "                    word_freq = self.class_word_counts[label].get(word, 0)\n",
        "                    word_prob = (word_freq + self.alpha) / (self.class_totals[label] + self.alpha * len(self.vocab))\n",
        "                    log_prob += np.log(word_prob)\n",
        "                scores[label] = log_prob\n",
        "            predictions.append(max(scores, key=scores.get))\n",
        "        return np.array(predictions)"
      ]
    },
    {
      "cell_type": "markdown",
      "metadata": {
        "id": "fg7iE07eaat9"
      },
      "source": [
        "Hàm đánh giá"
      ]
    },
    {
      "cell_type": "code",
      "execution_count": 93,
      "metadata": {
        "id": "wwEXPdEYaaNo"
      },
      "outputs": [],
      "source": [
        "def accuracy(y_true, y_pred):\n",
        "    return np.mean(y_true == y_pred)\n",
        "\n",
        "def precision(y_true, y_pred):\n",
        "    tp = np.sum((y_pred == 1) & (y_true == 1))\n",
        "    fp = np.sum((y_pred == 1) & (y_true == 0))\n",
        "    return tp / (tp + fp) if (tp + fp) > 0 else 0.0\n",
        "\n",
        "def recall(y_true, y_pred):\n",
        "    tp = np.sum((y_pred == 1) & (y_true == 1))\n",
        "    fn = np.sum((y_pred == 0) & (y_true == 1))\n",
        "    return tp / (tp + fn) if (tp + fn) > 0 else 0.0\n",
        "\n",
        "def f1_score(y_true, y_pred):\n",
        "    p = precision(y_true, y_pred)\n",
        "    r = recall(y_true, y_pred)\n",
        "    return 2 * p * r / (p + r) if (p + r) > 0 else 0.0"
      ]
    },
    {
      "cell_type": "markdown",
      "metadata": {
        "id": "jLkuhmN_RDiU"
      },
      "source": [
        "Huấn luyện mô hình"
      ]
    },
    {
      "cell_type": "code",
      "execution_count": 94,
      "metadata": {
        "id": "Wej2KVMJ72p7"
      },
      "outputs": [],
      "source": [
        "nb = NaiveBayesClassifier()\n",
        "nb.fit(X_train, y_train)"
      ]
    },
    {
      "cell_type": "markdown",
      "metadata": {
        "id": "Kp75yzgkRGMf"
      },
      "source": [
        "Đánh giá trên tập train và val"
      ]
    },
    {
      "cell_type": "code",
      "execution_count": 95,
      "metadata": {},
      "outputs": [
        {
          "name": "stdout",
          "output_type": "stream",
          "text": [
            "Evaluate for train set: \n",
            "\n",
            "Accuracy : 0.9953\n",
            "Precision: 0.9963\n",
            "Recall   : 0.9939\n",
            "F1-score : 0.9951\n"
          ]
        }
      ],
      "source": [
        "train_predict = nb.predict(X_train)\n",
        "acc = accuracy(y_train, train_predict)\n",
        "prec = precision(y_train, train_predict)\n",
        "rec = recall(y_train, train_predict)\n",
        "f1 = f1_score(y_train, train_predict)\n",
        "print(\"Evaluate for train set: \\n\")\n",
        "print(f\"Accuracy : {acc:.4f}\")\n",
        "print(f\"Precision: {prec:.4f}\")\n",
        "print(f\"Recall   : {rec:.4f}\")\n",
        "print(f\"F1-score : {f1:.4f}\")"
      ]
    },
    {
      "cell_type": "code",
      "execution_count": 96,
      "metadata": {
        "id": "c9ZQOaVaPwQR"
      },
      "outputs": [
        {
          "name": "stdout",
          "output_type": "stream",
          "text": [
            "Evaluate for val set: \n",
            "\n",
            "Accuracy : 0.9885\n",
            "Precision: 0.9907\n",
            "Recall   : 0.9862\n",
            "F1-score : 0.9885\n"
          ]
        }
      ],
      "source": [
        "val_predict = nb.predict(X_val)\n",
        "acc_val = accuracy(y_val, val_predict)\n",
        "prec_val = precision(y_val, val_predict)\n",
        "rec_val = recall(y_val, val_predict)\n",
        "f1_val = f1_score(y_val, val_predict)\n",
        "print(\"Evaluate for val set: \\n\")\n",
        "print(f\"Accuracy : {acc_val:.4f}\")\n",
        "print(f\"Precision: {prec_val:.4f}\")\n",
        "print(f\"Recall   : {rec_val:.4f}\")\n",
        "print(f\"F1-score : {f1_val:.4f}\")"
      ]
    },
    {
      "cell_type": "code",
      "execution_count": 97,
      "metadata": {},
      "outputs": [
        {
          "data": {
            "image/png": "[encoded data removed]",
            "text/plain": [
              "<Figure size 800x600 with 1 Axes>"
            ]
          },
          "metadata": {},
          "output_type": "display_data"
        },
        {
          "data": {
            "image/png": "[encoded data removed]",
            "text/plain": [
              "<Figure size 800x600 with 1 Axes>"
            ]
          },
          "metadata": {},
          "output_type": "display_data"
        }
      ],
      "source": [
        "def calculate_confusion_matrix(y_true, y_pred):\n",
        "    \"\"\"\n",
        "    Tính toán Confusion Matrix thủ công.\n",
        "\n",
        "    Args:\n",
        "        y_true: Mảng chứa nhãn thực tế.\n",
        "        y_pred: Mảng chứa nhãn dự đoán từ mô hình.\n",
        "\n",
        "    Returns:\n",
        "        confusion_matrix: Mảng 2x2 chứa Confusion Matrix.\n",
        "    \"\"\"\n",
        "    # Khởi tạo các giá trị TP, FP, TN, FN\n",
        "    TP = np.sum((y_true == 1) & (y_pred == 1))\n",
        "    FP = np.sum((y_true == 0) & (y_pred == 1))\n",
        "    TN = np.sum((y_true == 0) & (y_pred == 0))\n",
        "    FN = np.sum((y_true == 1) & (y_pred == 0))\n",
        "\n",
        "    # Tạo Confusion Matrix\n",
        "    confusion_matrix = np.array([[TN, FP], [FN, TP]])\n",
        "\n",
        "    return confusion_matrix\n",
        "\n",
        "def plot_confusion_matrix(y_true, y_pred, classes, title='Confusion Matrix', cmap='Blues'):\n",
        "    \"\"\"\n",
        "    Vẽ confusion matrix từ các nhãn thực tế và nhãn dự đoán.\n",
        "\n",
        "    Args:\n",
        "        y_true: Mảng chứa nhãn thực tế.\n",
        "        y_pred: Mảng chứa nhãn dự đoán từ mô hình.\n",
        "        classes: Danh sách các lớp (labels).\n",
        "        title: Tiêu đề của biểu đồ.\n",
        "        cmap: Bảng màu cho biểu đồ (mặc định là 'Blues').\n",
        "    \"\"\"\n",
        "    # Tính toán Confusion Matrix thủ công\n",
        "    cm = calculate_confusion_matrix(y_true, y_pred)\n",
        "\n",
        "    # Vẽ Confusion Matrix với seaborn heatmap\n",
        "    plt.figure(figsize=(8, 6))\n",
        "    sns.heatmap(cm, annot=True, fmt='d', cmap=cmap, xticklabels=classes, yticklabels=classes, cbar=False)\n",
        "\n",
        "    # Thêm tiêu đề và nhãn cho các trục\n",
        "    plt.title(title)\n",
        "    plt.xlabel('Predicted labels')\n",
        "    plt.ylabel('True labels')\n",
        "\n",
        "    # Hiển thị\n",
        "    plt.show()\n",
        "\n",
        "classes = ['Ham', 'Spam']\n",
        "plot_confusion_matrix(y_train, train_predict, classes, title='Confusion Matrix for Train dataset')\n",
        "plot_confusion_matrix(y_val, val_predict, classes, title='Confusion Matrix for Val dataset')"
      ]
    },
    {
      "cell_type": "markdown",
      "metadata": {
        "id": "vElr2E-0S882"
      },
      "source": [
        "**4. Dự đoán thực tế**"
      ]
    },
    {
      "cell_type": "markdown",
      "metadata": {},
      "source": [
        "Dự đoán mail từ người dùng nhập"
      ]
    },
    {
      "cell_type": "code",
      "execution_count": null,
      "metadata": {},
      "outputs": [],
      "source": [
        "def predict_new_email(model):\n",
        "    # Nhập tiêu đề và nội dung từ người dùng\n",
        "    subject = input(\"Nhập tiêu đề email: \")\n",
        "    message = input(\"Nhập nội dung email: \")\n",
        "\n",
        "    # Gộp và làm sạch văn bản\n",
        "    text = subject + ' ' + message\n",
        "    cleaned_text = clean_text(text)\n",
        "\n",
        "    # Dự đoán\n",
        "    prediction = model.predict([cleaned_text])  # Đảm bảo truyền vào danh sách một phần tử\n",
        "    result = 'spam' if prediction[0] == 1 else 'ham'  # Truy cập phần tử đầu tiên của mảng kết quả\n",
        "\n",
        "    print(f\"\\nEmail được dự đoán là: {result}\")\n",
        "\n",
        "predict_new_email(nb)"
      ]
    },
    {
      "cell_type": "markdown",
      "metadata": {},
      "source": [
        "Đánh giá trên file test\n",
        "Thay file path = đường dẫn file muốn test"
      ]
    },
    {
      "cell_type": "code",
      "execution_count": null,
      "metadata": {},
      "outputs": [
        {
          "name": "stdout",
          "output_type": "stream",
          "text": [
            "\n",
            "Kết quả đánh giá:\n",
            "Accuracy: 0.9885\n",
            "Precision: 0.9907\n",
            "Recall: 0.9862\n",
            "F1-score: 0.9885\n"
          ]
        },
        {
          "data": {
            "image/png": "[encoded data removed]",
            "text/plain": [
              "<Figure size 800x600 with 1 Axes>"
            ]
          },
          "metadata": {},
          "output_type": "display_data"
        }
      ],
      "source": [
        "def evaluate_csv(model, file_path):\n",
        "    # Đọc file CSV\n",
        "    try:\n",
        "        test_df = pd.read_csv(file_path)\n",
        "    except Exception as e:\n",
        "        print(f\"Lỗi khi đọc file CSV: {e}\")\n",
        "        return\n",
        "\n",
        "    # Kiểm tra các cột cần thiết\n",
        "    required_columns = ['Subject', 'Message', 'Spam/Ham']\n",
        "    if not all(col in test_df.columns for col in required_columns):\n",
        "        print(\"File CSV phải chứa các cột: Subject, Message, Spam/Ham\")\n",
        "        return\n",
        "\n",
        "    # Tiền xử lý dữ liệu\n",
        "    test_df = test_df[['Subject', 'Message', 'Spam/Ham']]\n",
        "    test_df = test_df.drop_duplicates()\n",
        "    test_df = test_df.fillna(\"\")\n",
        "    test_df[\"Text\"] = test_df[\"Subject\"].astype(str) + \" \" + test_df[\"Message\"].astype(str)\n",
        "    test_df[\"Label\"] = test_df[\"Spam/Ham\"].apply(lambda x: 1 if x == 'spam' else 0)\n",
        "    test_data = preprocess_ngram(test_df)\n",
        "    X_test, y_test = test_data['Text'], test_data['Label'].to_numpy()\n",
        "\n",
        "    # Dự đoán trên tập test\n",
        "    test_pred = model.predict(X_test)\n",
        "\n",
        "    # Đánh giá mô hình trên toàn bộ dữ liệu\n",
        "    acc = accuracy(y_test, test_pred)\n",
        "    pre = precision(y_test, test_pred)\n",
        "    rec = recall(y_test, test_pred)\n",
        "    f1 = f1_score(y_test, test_pred)\n",
        "\n",
        "    # In kết quả\n",
        "    print(\"\\nKết quả đánh giá:\")\n",
        "    print(f\"Accuracy: {acc:.4f}\")\n",
        "    print(f\"Precision: {pre:.4f}\")\n",
        "    print(f\"Recall: {rec:.4f}\")\n",
        "    print(f\"F1-score: {f1:.4f}\")\n",
        "\n",
        "    classes = ['Ham', 'Spam']\n",
        "    plot_confusion_matrix(y_test, test_pred, classes, title='Confusion Matrix for Test dataset')\n",
        "\n",
        "# Ví dụ sử dụng\n",
        "file_path = \"val.csv\"\n",
        "evaluate_csv(nb, file_path)"
      ]
    }
  ],
  "metadata": {
    "colab": {
      "provenance": []
    },
    "kernelspec": {
      "display_name": "base",
      "language": "python",
      "name": "python3"
    },
    "language_info": {
      "codemirror_mode": {
        "name": "ipython",
        "version": 3
      },
      "file_extension": ".py",
      "mimetype": "text/x-python",
      "name": "python",
      "nbconvert_exporter": "python",
      "pygments_lexer": "ipython3",
      "version": "3.11.5"
    }
  },
  "nbformat": 4,
  "nbformat_minor": 0
}
